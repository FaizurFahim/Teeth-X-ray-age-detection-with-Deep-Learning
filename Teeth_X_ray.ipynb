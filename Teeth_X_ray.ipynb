{
  "nbformat": 4,
  "nbformat_minor": 0,
  "metadata": {
    "colab": {
      "provenance": []
    },
    "kernelspec": {
      "name": "python3",
      "display_name": "Python 3"
    },
    "language_info": {
      "name": "python"
    }
  },
  "cells": [
    {
      "cell_type": "code",
      "execution_count": null,
      "metadata": {
        "colab": {
          "base_uri": "https://localhost:8080/"
        },
        "id": "ipPvhcWsFVw5",
        "outputId": "de071b62-9418-465e-adcd-eb56e54d957d"
      },
      "outputs": [
        {
          "output_type": "stream",
          "name": "stdout",
          "text": [
            "Mounted at /content/gdrive\n",
            "Total number of images: 6\n"
          ]
        }
      ],
      "source": [
        "from google.colab import drive\n",
        "import os\n",
        "\n",
        "\n",
        "drive.mount('/content/gdrive')\n",
        "\n",
        "root_dir = '/content/gdrive/MyDrive/Augmented Teeth X-ray dataset'\n",
        "assert os.path.isdir(root_dir), f'{root_dir} does not exist'\n",
        "\n",
        "assert os.path.isdir(root_dir), f'{root_dir} does not exist'\n",
        "\n",
        "assert len(os.listdir(root_dir)) > 0, f'{root_dir} does not contain any files'\n",
        "\n",
        "\n",
        "print(f'Total number of images: {len(os.listdir(root_dir))}')\n"
      ]
    },
    {
      "cell_type": "code",
      "source": [
        "import torch\n",
        "from torchvision import datasets, transforms\n",
        "from torch.utils.data import DataLoader\n",
        "import os\n"
      ],
      "metadata": {
        "id": "E34vsmjNHPVa"
      },
      "execution_count": null,
      "outputs": []
    },
    {
      "cell_type": "code",
      "source": [
        "age_classes = {\n",
        "    \"0-5\": \"deciduous_dentition\",\n",
        "    \"6-12\": \"mixed_dentition\",\n",
        "    \"13-19\": \"permanent_dentition_adolescent\",\n",
        "    \"20-29\": \"young_adults\",\n",
        "    \"30-59\": \"middle_aged_individuals\",\n",
        "    \">60\": \"seniors\"\n",
        "}\n",
        "\n",
        "# Define the path to save the augmented dataset\n",
        "augmented_dir = '/content/gdrive/MyDrive/Teeth X-ray dataset'\n"
      ],
      "metadata": {
        "id": "b6ahBIoZFlmu"
      },
      "execution_count": null,
      "outputs": []
    },
    {
      "cell_type": "code",
      "source": [
        "for age_class in age_classes.values():\n",
        "    class_dir = os.path.join(augmented_dir, age_class)\n",
        "    os.makedirs(class_dir, exist_ok=True)\n"
      ],
      "metadata": {
        "id": "ebSkjtWnHazy"
      },
      "execution_count": null,
      "outputs": []
    },
    {
      "cell_type": "code",
      "source": [
        "augmentation_transforms = {\n",
        "    \"0-5\": transforms.Compose([\n",
        "        # Define your desired transformations for this age class\n",
        "        transforms.RandomHorizontalFlip(),\n",
        "        transforms.RandomRotation(10),\n",
        "        # Add more transformations if needed\n",
        "    ]),\n",
        "    \"6-12\": transforms.Compose([\n",
        "        # Define your desired transformations for this age class\n",
        "        transforms.RandomResizedCrop((224, 224)),\n",
        "        transforms.ColorJitter(brightness=0.2, contrast=0.2),\n",
        "        # Add more transformations if needed\n",
        "    ]),\n",
        "    \"13-19\": transforms.Compose([\n",
        "        # Define your desired transformations for this age class\n",
        "        transforms.RandomHorizontalFlip(),\n",
        "        transforms.RandomVerticalFlip(),\n",
        "        # Add more transformations if needed\n",
        "    ]),\n",
        "    \"20-29\": transforms.Compose([\n",
        "        # Define your desired transformations for this age class\n",
        "        transforms.RandomRotation(20),\n",
        "        transforms.ColorJitter(contrast=0.3, saturation=0.3),\n",
        "        # Add more transformations if needed\n",
        "    ]),\n",
        "    \"30-59\": transforms.Compose([\n",
        "        # Define your desired transformations for this age class\n",
        "        transforms.RandomResizedCrop((256, 256)),\n",
        "        transforms.RandomHorizontalFlip(),\n",
        "        # Add more transformations if needed\n",
        "    ]),\n",
        "    \">60\": transforms.Compose([\n",
        "        # Define your desired transformations for this age class\n",
        "        transforms.RandomRotation(15),\n",
        "        transforms.ColorJitter(brightness=0.1, contrast=0.1, saturation=0.1),\n",
        "        # Add more transformations if needed\n",
        "    ])\n",
        "}\n"
      ],
      "metadata": {
        "id": "O2_A41W4HfhB"
      },
      "execution_count": null,
      "outputs": []
    },
    {
      "cell_type": "code",
      "source": [
        "import os\n",
        "import re\n",
        "from PIL import Image\n",
        "\n",
        "# Define the directory of your dataset\n",
        "dataset_dir = '/content/gdrive/MyDrive/Teeth X-ray dataset'\n",
        "\n",
        "# Define the destination directory for augmented images\n",
        "augmented_dir = '/content/gdrive/MyDrive/Augmented Teeth X-ray dataset'\n",
        "\n",
        "# Define the age classes and their respective directories\n",
        "age_classes = {\n",
        "    \"0-5\": \"deciduous_dentition\",\n",
        "    \"6-12\": \"mixed_dentition\",\n",
        "    \"13-19\": \"permanent_dentition_adolescent\",\n",
        "    \"20-29\": \"young_adults\",\n",
        "    \"30-59\": \"middle_aged_individuals\",\n",
        "    \">60\": \"seniors\"\n",
        "}\n",
        "\n",
        "# Create the destination directories if they don't exist\n",
        "for age_class_dir in age_classes.values():\n",
        "    age_class_path = os.path.join(augmented_dir, age_class_dir)\n",
        "    os.makedirs(age_class_path, exist_ok=True)\n",
        "\n",
        "# Iterate over the files in the dataset directory\n",
        "for i, filename in enumerate(os.listdir(dataset_dir)):\n",
        "    image_path = os.path.join(dataset_dir, filename)\n",
        "\n",
        "    try:\n",
        "        # Attempt to open the image file\n",
        "        with Image.open(image_path) as image:\n",
        "            # Extract age information from the image name\n",
        "            age_match = re.search(r\"\\b(\\d+)\\b\", filename)\n",
        "\n",
        "            if age_match:\n",
        "                age = int(age_match.group())\n",
        "\n",
        "                if age >= 0 and age <= 5:\n",
        "                    age_class = \"0-5\"\n",
        "                elif age >= 6 and age <= 12:\n",
        "                    age_class = \"6-12\"\n",
        "                elif age >= 13 and age <= 19:\n",
        "                    age_class = \"13-19\"\n",
        "                elif age >= 20 and age <= 29:\n",
        "                    age_class = \"20-29\"\n",
        "                elif age >= 30 and age <= 59:\n",
        "                    age_class = \"30-59\"\n",
        "                else:\n",
        "                    age_class = \">60\"\n",
        "\n",
        "                # Apply selective augmentation for the respective age class\n",
        "                augmented_image = augmentation_transforms[age_class](image)\n",
        "\n",
        "                # Save the augmented image to the corresponding age class folder\n",
        "                save_path = os.path.join(augmented_dir, age_classes[age_class], f\"augmented_{i}.jpg\")\n",
        "                augmented_image.save(save_path)\n",
        "    except (IOError, OSError):\n",
        "        print(f\"Skipping file: {image_path}. It is not a valid image file.\")\n",
        "\n",
        "\n",
        "\n",
        "\n",
        "\n",
        "\n",
        "\n"
      ],
      "metadata": {
        "colab": {
          "base_uri": "https://localhost:8080/"
        },
        "id": "6V8_276LHpD7",
        "outputId": "7619f2e0-3791-4183-93e1-c779ab5afadd"
      },
      "execution_count": null,
      "outputs": [
        {
          "output_type": "stream",
          "name": "stdout",
          "text": [
            "Skipping file: /content/gdrive/MyDrive/Teeth X-ray dataset/.ipynb_checkpoints. It is not a valid image file.\n",
            "Skipping file: /content/gdrive/MyDrive/Teeth X-ray dataset/deciduous_dentition. It is not a valid image file.\n",
            "Skipping file: /content/gdrive/MyDrive/Teeth X-ray dataset/mixed_dentition. It is not a valid image file.\n",
            "Skipping file: /content/gdrive/MyDrive/Teeth X-ray dataset/permanent_dentition_adolescent. It is not a valid image file.\n",
            "Skipping file: /content/gdrive/MyDrive/Teeth X-ray dataset/young_adults. It is not a valid image file.\n",
            "Skipping file: /content/gdrive/MyDrive/Teeth X-ray dataset/middle_aged_individuals. It is not a valid image file.\n",
            "Skipping file: /content/gdrive/MyDrive/Teeth X-ray dataset/seniors. It is not a valid image file.\n"
          ]
        }
      ]
    }
  ]
}